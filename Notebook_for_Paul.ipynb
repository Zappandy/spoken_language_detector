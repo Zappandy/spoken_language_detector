{
 "cells": [
  {
   "cell_type": "markdown",
   "id": "aca566d5",
   "metadata": {},
   "source": [
    "## Welcome Paul"
   ]
  },
  {
   "cell_type": "markdown",
   "id": "3ea1370c",
   "metadata": {},
   "source": [
    "This is a notebook made specifi"
   ]
  },
  {
   "cell_type": "code",
   "execution_count": 13,
   "id": "f1ca4036",
   "metadata": {},
   "outputs": [],
   "source": [
    "import re\n",
    "import torch\n",
    "import torch.nn as nn\n",
    "from torch.utils.data import Subset\n",
    "import numpy as np\n",
    "import matplotlib.pyplot as plt\n",
    "import soundfile as sf\n",
    "import librosa\n",
    "import librosa.display\n",
    "import os\n",
    "from torch.utils.data import Dataset\n",
    "from torch.utils.data import DataLoader, Subset, random_split\n",
    "from copy import deepcopy\n",
    "from torch import cuda\n",
    "import copy\n",
    "from tqdm import tqdm\n",
    "from torch.optim import AdamW\n",
    "from codecarbon import track_emissions\n"
   ]
  },
  {
   "cell_type": "markdown",
   "id": "a82ce528",
   "metadata": {},
   "source": [
    "Dataloader (SpeechDataset class)"
   ]
  },
  {
   "cell_type": "code",
   "execution_count": 2,
   "id": "f6ec6d27-2351-404d-a805-ffbd1e9fa165",
   "metadata": {},
   "outputs": [
    {
     "name": "stderr",
     "output_type": "stream",
     "text": [
      "/home/andres-gon/Documents/LCT-Tasks/UoL/courses/reseaux_de_neurones/spoken_lang/talkative_snake/lib/python3.10/site-packages/torch/cuda/__init__.py:88: UserWarning: CUDA initialization: CUDA unknown error - this may be due to an incorrectly set up environment, e.g. changing env variable CUDA_VISIBLE_DEVICES after program start. Setting the available devices to be zero. (Triggered internally at ../c10/cuda/CUDAFunctions.cpp:109.)\n",
      "  return torch._C._cuda_getDeviceCount() > 0\n"
     ]
    }
   ],
   "source": [
    "SEED = 42  # defining a seed to facilitate replication\n",
    "device = 'cuda' if cuda.is_available() else 'cpu'"
   ]
  },
  {
   "cell_type": "code",
   "execution_count": 3,
   "id": "2fb7eaac",
   "metadata": {},
   "outputs": [],
   "source": [
    "class SpeechDataset(Dataset):\n",
    "\n",
    "    def __init__(self, flac_dir, load_method):\n",
    "        \"\"\"\n",
    "        :flac_dir\n",
    "        \"\"\"\n",
    "        self.audio_path_list = sorted(self.find_files(flac_dir)) \n",
    "        methods = {\"librosa\": self.librosa_flac2melspec, \"soundfile\": self.sf_loader, \"torchaudio\": self.torch_flac2melspec}\n",
    "        self.labels = {\"es\": 0, \"en\": 1, \"de\": 2}\n",
    "        self.languages = {v: k for k, v in self.labels.items()}\n",
    "        self.chosen_method = methods[load_method]\n",
    "        \n",
    "        \n",
    "    def __len__(self):\n",
    "        return len(self.audio_path_list)\n",
    "\n",
    "    def __getitem__(self, index):\n",
    "        audio_file = self.audio_path_list[index]  \n",
    "        label = self.labels[self.get_label(audio_file)]\n",
    "        spectro, _ = self.chosen_method(audio_file)  # _ is fs\n",
    "        #spectro = torch.from_numpy(spectro)\n",
    "        #spectro = spectro.unsqueeze(0)\n",
    "        return spectro, label\n",
    "\n",
    "    def find_files(self, directory, pattern=\".flac\"):\n",
    "        \"\"\"\n",
    "        Recursive search method to find files. Credit to Paul Magron and Andrea de Marco\n",
    "        for OG method\n",
    "        \"\"\"\n",
    "\n",
    "        regexFlac = re.compile(rf'/.*fragment\\d+\\{pattern}$') \n",
    "        files = [f.path for f in os.scandir(directory) if regexFlac.search(f.path)]  # ends with does not like regex\n",
    "        return files\n",
    "    \n",
    "    def monolingual_path_list(self, language, gender):\n",
    "        \"\"\"\n",
    "        Input: string ('en'|'de'|'es')\n",
    "        Output: audio path list only containing file names of the chosen language\n",
    "        \"\"\"\n",
    "        #r = re.compile(rf'.*\\/{language}_{gender}.*fragment\\d+\\.flac') \n",
    "        r = re.compile(rf'.*\\/{language}.*fragment\\d+\\.flac') \n",
    "        newlist = list(filter(r.match, self.audio_path_list))\n",
    "        return newlist\n",
    "    \n",
    "    def get_label(self, path):\n",
    "        labelRegex = re.compile(r\"(es|en|de)_.*.flac\")\n",
    "        patterns = labelRegex.findall(path)\n",
    "        assert len(patterns) == 1\n",
    "        return patterns[0]\n",
    "\n",
    "    def torch_flac2melspec(self, file_path):\n",
    "        pass  # commenting option to avoid pip issues on colab\n",
    "        #waveform, sample_rate = torchaudio.load(file_path, normalize=True)\n",
    "        #transform = T.MelSpectrogram(sample_rate)        \n",
    "        #return transform(waveform), sample_rate\n",
    "        \n",
    "    def sf_loader(self, file_path):\n",
    "        with open(file_path, \"rb\") as f:\n",
    "            data, samplerate = sf.read(f)\n",
    "        return data, samplerate\n",
    "\n",
    "    def librosa_flac2melspec(self, file_path, n_mels=64, melspec_size=512, visual=False):\n",
    "        \"\"\"\n",
    "        the librosa method we are using atm\n",
    "        \"\"\"\n",
    "        sig, fs =  librosa.load(file_path, sr=None)\n",
    "        sig /= np.max(np.abs(sig), axis=0)\n",
    "        n_fft = melspec_size\n",
    "        hop_length = int(n_fft/2)\n",
    "\n",
    "        # padding signal if less than a second\n",
    "        if len(sig) < fs:\n",
    "            padded_array = np.zeros(fs)\n",
    "            padded_array[:np.shape(sig)[0]] = sig\n",
    "            sig = padded_array\n",
    "\n",
    "        melspec = librosa.feature.melspectrogram(y=sig, sr=fs,\n",
    "                                                 center=True, n_fft=n_fft,\n",
    "                                                 hop_length=hop_length, n_mels=n_mels)\n",
    "\n",
    "\n",
    "        if visual:\n",
    "            self.plotmelspec(melspec, fs, hop_length)\n",
    "\n",
    "        melspec = librosa.power_to_db(melspec, ref=1.0)\n",
    "        melspec /= 80.0  # highest db...\n",
    "        melspec = self.checkmelspec(melspec)\n",
    "        return melspec, fs\n",
    "\n",
    "    def checkmelspec(self, melspec, n_mels=64):\n",
    "        \"\"\"\n",
    "        this method works with librosa\n",
    "\n",
    "        \"\"\"\n",
    "        if melspec.shape[1] < n_mels:  # n_mels\n",
    "            shape = np.shape(melspec)\n",
    "            padded_array = np.zeros((shape[0], n_mels)) - 1\n",
    "            padded_array[0:shape[0], :shape[1]] = melspec\n",
    "            melspec = padded_array\n",
    "        return melspec\n",
    "\n",
    "    def plotmelspec(self, melspec, fs, hop_length, show=False):\n",
    "        plt.figure(figsize=(8, 6))\n",
    "        plt.xlabel(\"Time\")\n",
    "        plt.ylabel(\"Mel-Frequency\")\n",
    "        librosa.display.specshow(librosa.power_to_db(melspec, ref=np.max),\n",
    "                                 y_axis=\"mel\", fmax=fs/2, sr=fs,\n",
    "                                 hop_length=hop_length, x_axis=\"time\")\n",
    "        plt.colorbar(format=\"%+2.0f db\")\n",
    "        plt.title(\"Mel Spectogram\")\n",
    "        plt.tight_layout()\n",
    "        if show:\n",
    "            plt.show()\n",
    "        plt.close()  # to close windows and fix warning!"
   ]
  },
  {
   "cell_type": "markdown",
   "id": "51545b98",
   "metadata": {},
   "source": [
    "Function to get balanced subset:"
   ]
  },
  {
   "cell_type": "code",
   "execution_count": 4,
   "id": "afedb590",
   "metadata": {},
   "outputs": [],
   "source": [
    "def get_balanced_subset(train_data, n, gender):\n",
    "    '''\n",
    "    Creates subset with equal amounts of data from each language\n",
    "    Input: instance of class Speechdataset, desired number of files per language (int) \n",
    "    Output: balanced subset (torch.utils.data.dataset.ConcatDataset)\n",
    "    '''\n",
    "    #create new instances for each language\n",
    "    en=deepcopy(train_data)\n",
    "    es=deepcopy(train_data)\n",
    "    de=deepcopy(train_data)\n",
    "    \n",
    "    \n",
    "    #modify the audio_path_list to only include paths to files of a single language\n",
    "    en.audio_path_list=en.monolingual_path_list('en', gender)\n",
    "    es.audio_path_list=es.monolingual_path_list('es', gender)\n",
    "    de.audio_path_list=de.monolingual_path_list('de', gender)\n",
    "\n",
    "    #extract equally sized subsets from each monolingual dataset\n",
    "    en_sub = Subset(en, torch.arange(n))\n",
    "    es_sub = Subset(es, torch.arange(n))\n",
    "    de_sub = Subset(de, torch.arange(n))\n",
    "    \n",
    "    subset=en_sub+de_sub+es_sub #concatenate subsets\n",
    "    return subset"
   ]
  },
  {
   "cell_type": "markdown",
   "id": "ecd140ea",
   "metadata": {},
   "source": [
    "utils.py"
   ]
  },
  {
   "cell_type": "code",
   "execution_count": 5,
   "id": "5b39232a",
   "metadata": {},
   "outputs": [],
   "source": [
    "# https://debuggercafe.com/saving-and-loading-the-best-model-in-pytorch/\n",
    "\n",
    "def evaluation(model, val_data, loss_fn):\n",
    "\n",
    "    device = 'cuda' if cuda.is_available() else 'cpu'\n",
    "\n",
    "    model.eval()\n",
    "    with torch.no_grad():\n",
    "        correct = 0\n",
    "        loss = 0\n",
    "        total = 0\n",
    "        for spectra, labels in val_data:\n",
    "\n",
    "            spectra = spectra.unsqueeze(1)\n",
    "            spectra = spectra.to(device)\n",
    "            labels = labels.to(device)\n",
    "            preds = model(spectra)\n",
    "            vals, labels_preds = torch.max(preds.data, 1)  # preds.data == preds? vals are not needed\n",
    "            total += labels.size(0)  # same as shape[0], what's more pytorch-like?\n",
    "            correct += (labels_preds == labels).sum().item()\n",
    "            # loss\n",
    "            err = loss_fn(preds, labels)\n",
    "            loss += err.item()\n",
    "        total_loss = loss / len(val_data)\n",
    "    return correct / total * 100, total_loss\n",
    "\n",
    "def visualize(epochs, tr_loss, val_loss, save=False):\n",
    "\n",
    "    fig = plt.figure()\n",
    "    train, = plt.plot(torch.arange(epochs) + 1, tr_loss, '-og', label=\"Train\")  \n",
    "    valid, = plt.plot(torch.arange(epochs) + 1, val_loss, '-or', label=\"Valid\")  \n",
    "    plt.xlabel('Epochs')\n",
    "    plt.ylabel(\"Loss\")    \n",
    "    plt.legend(handles=[train, valid])\n",
    "    plt.title('Loss over epochs')\n",
    "    if save:\n",
    "        fig.savefig(\"Loss_over_epochs.jpg\", bbox_inches=\"tight\", dpi=150)\n",
    "    plt.show()\n",
    "    plt.close(fig)\n",
    "\n",
    "def save_model(epochs, model, optimizer, criterion):\n",
    "    \"\"\"\n",
    "    Function to save the trained model to disk.\n",
    "    \"\"\"\n",
    "    print(f\"Saving final model...\")\n",
    "    torch.save({\n",
    "                'epoch': epochs,\n",
    "                'model_state_dict': model.state_dict(),\n",
    "                'optimizer_state_dict': optimizer.state_dict(),\n",
    "                'loss': criterion,\n",
    "                }, 'model_output/final_speech_cnn.pth')\n",
    "\n",
    "plt.style.use('ggplot')\n",
    "class SaveBestModel:\n",
    "    \"\"\"\n",
    "    Class to save the best model while training. If the current epoch's \n",
    "    validation loss is less than the previous least less, then save the\n",
    "    model state.\n",
    "    \"\"\"\n",
    "    #def __init__(self, best_valid_loss=float('inf')):\n",
    "    def __init__(self, best_valid_loss=float('inf')):\n",
    "        self.best_valid_loss = best_valid_loss\n",
    "        #self.path = \"./model_output/best_speech_cnn.pth\"\n",
    "        self.path = \"model_output/best_speech_cnn.pth\"\n",
    "        \n",
    "    def __call__(self, current_valid_loss, epoch, model, optimizer, criterion):\n",
    "        if current_valid_loss < self.best_valid_loss:\n",
    "            self.best_valid_loss = current_valid_loss\n",
    "            print(f\"\\nBest validation loss: {self.best_valid_loss}\")\n",
    "            print(f\"\\nSaving best model for epoch: {epoch+1}\\n\")\n",
    "            torch.save({'epoch': epoch+1, 'model_state_dict': model.state_dict(),\n",
    "                        'optimizer_state_dict': optimizer.state_dict(),\n",
    "                        'loss': criterion}, self.path)"
   ]
  },
  {
   "cell_type": "markdown",
   "id": "46f5f1d9",
   "metadata": {},
   "source": [
    "CNNSpeechClassifier Modules"
   ]
  },
  {
   "cell_type": "code",
   "execution_count": null,
   "id": "22233c9a-4952-4f9f-969a-8e21ca84041a",
   "metadata": {},
   "outputs": [],
   "source": []
  },
  {
   "cell_type": "code",
   "execution_count": 6,
   "id": "64da2e8e",
   "metadata": {},
   "outputs": [],
   "source": [
    "class CNNSpeechClassifier(nn.Module):\n",
    "\n",
    "    def __init__(self, channel_inputs, num_channels1, num_channels2, kernel_size, kernel_pool, padding, num_classes):\n",
    "        num_channels3 = 64\n",
    "        super(CNNSpeechClassifier, self).__init__()\n",
    "        self.cnn_layer1 = nn.Sequential(nn.Conv2d(channel_inputs, num_channels1, kernel_size=kernel_size, padding=padding),\n",
    "                                        nn.ReLU(),\n",
    "                                        nn.BatchNorm2d(num_channels1),\n",
    "                                        nn.MaxPool2d(kernel_pool))\n",
    "\n",
    "\n",
    "        self.dropout = nn.Dropout(0.5)\n",
    "        self.fc_layer = nn.Linear(num_channels1*31*430, num_classes)  # shape of cnn_layer 1 after convolution of image!\n",
    "        \n",
    "        #self.cnn_layer2 = nn.Sequential(nn.Conv2d(num_channels1, num_channels2, kernel_size=kernel_size, padding=padding),\n",
    "        #                                nn.ReLU(),\n",
    "        #                                nn.BatchNorm2d(num_channels2),\n",
    "        #                                nn.MaxPool2d(kernel_pool))\n",
    "\n",
    "        ##self.fc_layer = nn.Linear(num_channels2*15*214, num_classes)  # shape of cnn_layer 2 after convolution of image!\n",
    "\n",
    "        #self.cnn_layer3 = nn.Sequential(nn.Conv2d(num_channels2, num_channels3, kernel_size=kernel_size, padding=padding),\n",
    "        #                                nn.ReLU(),\n",
    "        #                                nn.BatchNorm2d(num_channels3),\n",
    "        #                                nn.MaxPool2d(kernel_pool))\n",
    "        #\n",
    "\n",
    "        #self.fc_layer = nn.Linear(num_channels3*7*106, num_classes)  # shape of cnn_layer 2 after convolution of image!\n",
    "\n",
    "    def forward(self, x):\n",
    "        # 1, 8, 64, 862 should be 8, 1, 64, 862\n",
    "        x = self.cnn_layer1(x)\n",
    "        #print(x.shape)\n",
    "        #x = self.cnn_layer2(x)\n",
    "        ##print(x.shape)\n",
    "        #x = self.cnn_layer3(x)\n",
    "        #print(x.shape)\n",
    "        #raise SystemExit\n",
    "        # vectorizing image\n",
    "        z = x.reshape(x.shape[0], -1)\n",
    "        z = self.dropout(z)\n",
    "        return self.fc_layer(z)\n"
   ]
  },
  {
   "cell_type": "markdown",
   "id": "46863ddb",
   "metadata": {},
   "source": [
    "train.py"
   ]
  },
  {
   "cell_type": "code",
   "execution_count": 14,
   "id": "e8494314",
   "metadata": {},
   "outputs": [],
   "source": [
    "class MyTrainer:\n",
    "\n",
    "    def __init__(self, model, lr=1e-6):\n",
    "\n",
    "        self.device = 'cuda' if cuda.is_available() else 'cpu'\n",
    "\n",
    "        self.total_train_loss = []\n",
    "        self.total_val_loss = []\n",
    "        self.loss_fn = nn.CrossEntropyLoss()\n",
    "        self.model = copy.deepcopy(model)\n",
    "        self.model.to(self.device)\n",
    "        self.model.train()\n",
    "        lr = 5e-4  # 5e-4 best so far?\n",
    "        self.optimizer = AdamW(self.model.parameters(), lr=lr)\n",
    "        \n",
    "    @track_emissions(project_name=\"spoken_lang_detector\", offline=True, country_iso_code='FRA')\n",
    "    def train_loop(self, train_data, val_data, epochs=10, verbose=True, visual=False):\n",
    "\n",
    "        save_best_model = SaveBestModel()\n",
    "\n",
    "        for epoch in tqdm(range(epochs)):\n",
    "            loss_curr_epoch = 0\n",
    "            for spectra, labels in train_data:\n",
    "                self.optimizer.zero_grad()\n",
    "\n",
    "                spectra = spectra.unsqueeze(1)\n",
    "\n",
    "                spectra = spectra.to(self.device)\n",
    "                labels = labels.to(self.device)\n",
    "\n",
    "                preds = self.model(spectra)  # 8, 3\n",
    "                loss = self.loss_fn(preds, labels)\n",
    "                loss.backward()\n",
    "                self.optimizer.step()\n",
    "\n",
    "                loss_curr_epoch += loss.item()\n",
    "\n",
    "            train_loss = loss_curr_epoch / len(train_data)\n",
    "            self.total_train_loss.append(train_loss)\n",
    "            acc, val_loss = evaluation(self.model, val_data, self.loss_fn)\n",
    "            self.total_val_loss.append(val_loss)\n",
    "            if verbose:\n",
    "                self.pretty_print(epoch=epoch, train_loss=train_loss, val_loss=val_loss, acc=acc)\n",
    "\n",
    "            save_best_model(val_loss, epoch, self.model, self.optimizer, self.loss_fn)\n",
    "\n",
    "\n",
    "        \n",
    "        if visual:\n",
    "            visualize(epochs, self.total_train_loss, self.total_val_loss)\n",
    "        save_model(epochs=epochs, model=self.model, optimizer=self.optimizer, criterion=self.loss_fn)\n",
    "    \n",
    "    def pretty_print(self, epoch, train_loss, val_loss, acc):\n",
    "        print(f\"Epoch {epoch+1}: train loss is {train_loss:.3f} | val loss is {val_loss:.3f} | Accuracy is {acc:.2f}%\")"
   ]
  },
  {
   "cell_type": "markdown",
   "id": "0110ce7f",
   "metadata": {},
   "source": [
    "eval.py"
   ]
  },
  {
   "cell_type": "markdown",
   "id": "500d60b5-cf8e-4733-b8a0-7bd3ceb8217f",
   "metadata": {},
   "source": [
    "# Train"
   ]
  },
  {
   "cell_type": "code",
   "execution_count": null,
   "id": "c55de0e4-6dd8-45ee-9787-a466516e93aa",
   "metadata": {},
   "outputs": [],
   "source": [
    "torch.cuda.empty_cache()  # cleaning cache before training"
   ]
  },
  {
   "cell_type": "code",
   "execution_count": 15,
   "id": "0849c4d9-db4f-4ffd-8883-1739530c09be",
   "metadata": {},
   "outputs": [],
   "source": [
    "train_dir = \"./Dataset/train/train\"\n",
    "train_data = SpeechDataset(train_dir, \"librosa\")\n",
    "\n",
    "train_size = int(len(train_data) * 0.8)\n",
    "val_size = len(train_data) - train_size\n",
    "\n",
    "train_data, val_data = random_split(train_data, [train_size, val_size], generator=torch.Generator().manual_seed(SEED))\n",
    "train_dataloader = DataLoader(train_data, batch_size=8, shuffle=True) \n",
    "val_dataloader = DataLoader(val_data, batch_size=8, shuffle=True)"
   ]
  },
  {
   "cell_type": "code",
   "execution_count": 16,
   "id": "ac6959dd-b66e-4b40-ae0e-2e67f38aac82",
   "metadata": {},
   "outputs": [
    {
     "name": "stderr",
     "output_type": "stream",
     "text": [
      "[codecarbon INFO @ 23:10:33] offline tracker init\n",
      "[codecarbon INFO @ 23:10:33] [setup] RAM Tracking...\n",
      "[codecarbon INFO @ 23:10:33] [setup] GPU Tracking...\n",
      "[codecarbon INFO @ 23:10:33] Tracking Nvidia GPU via pynvml\n",
      "[codecarbon INFO @ 23:10:33] [setup] CPU Tracking...\n",
      "[codecarbon ERROR @ 23:10:33] Unable to read Intel RAPL files for CPU power, we will use a constant for your CPU power. Please view https://github.com/mlco2/codecarbon/issues/244 for workarounds : [Errno 13] Permission denied: '/sys/class/powercap/intel-rapl/intel-rapl:0/energy_uj'\n",
      "[codecarbon INFO @ 23:10:33] Tracking Intel CPU via RAPL interface\n",
      "[codecarbon ERROR @ 23:10:34] Unable to read Intel RAPL files for CPU power, we will use a constant for your CPU power. Please view https://github.com/mlco2/codecarbon/issues/244 for workarounds : [Errno 13] Permission denied: '/sys/class/powercap/intel-rapl/intel-rapl:0/energy_uj'\n",
      "[codecarbon INFO @ 23:10:34] >>> Tracker's metadata:\n",
      "[codecarbon INFO @ 23:10:34]   Platform system: Linux-5.19.0-32-generic-x86_64-with-glibc2.35\n",
      "[codecarbon INFO @ 23:10:34]   Python version: 3.10.6\n",
      "[codecarbon INFO @ 23:10:34]   Available RAM : 15.053 GB\n",
      "[codecarbon INFO @ 23:10:34]   CPU count: 16\n",
      "[codecarbon INFO @ 23:10:34]   CPU model: AMD Ryzen 7 4800H with Radeon Graphics\n",
      "[codecarbon INFO @ 23:10:34]   GPU count: 1\n",
      "[codecarbon INFO @ 23:10:34]   GPU model: 1 x NVIDIA GeForce RTX 3050 Laptop GPU\n",
      "  0%|                                                    | 0/10 [00:00<?, ?it/s][codecarbon INFO @ 23:10:49] Energy consumed for RAM : 0.000024 kWh. RAM Power : 5.645008563995361 W\n",
      "[codecarbon INFO @ 23:10:49] Energy consumed for all GPUs : 0.000040 kWh. All GPUs Power : 9.567 W\n",
      "[codecarbon INFO @ 23:10:49] Energy consumed for all CPUs : 0.000000 kWh. All CPUs Power : 0.0 W\n",
      "[codecarbon INFO @ 23:10:49] 0.000063 kWh of electricity used since the begining.\n",
      "[codecarbon INFO @ 23:11:04] Energy consumed for RAM : 0.000047 kWh. RAM Power : 5.645008563995361 W\n",
      "[codecarbon INFO @ 23:11:04] Energy consumed for all GPUs : 0.000080 kWh. All GPUs Power : 9.631 W\n",
      "[codecarbon INFO @ 23:11:04] Energy consumed for all CPUs : 0.000000 kWh. All CPUs Power : 0.0 W\n",
      "[codecarbon INFO @ 23:11:04] 0.000127 kWh of electricity used since the begining.\n",
      "[codecarbon INFO @ 23:11:19] Energy consumed for RAM : 0.000071 kWh. RAM Power : 5.645008563995361 W\n",
      "[codecarbon INFO @ 23:11:19] Energy consumed for all GPUs : 0.000120 kWh. All GPUs Power : 9.643 W\n",
      "[codecarbon INFO @ 23:11:19] Energy consumed for all CPUs : 0.000000 kWh. All CPUs Power : 0.0 W\n",
      "[codecarbon INFO @ 23:11:19] 0.000191 kWh of electricity used since the begining.\n",
      "[codecarbon INFO @ 23:11:34] Energy consumed for RAM : 0.000094 kWh. RAM Power : 5.645008563995361 W\n",
      "[codecarbon INFO @ 23:11:34] Energy consumed for all GPUs : 0.000160 kWh. All GPUs Power : 9.694 W\n",
      "[codecarbon INFO @ 23:11:34] Energy consumed for all CPUs : 0.000000 kWh. All CPUs Power : 0.0 W\n",
      "[codecarbon INFO @ 23:11:34] 0.000254 kWh of electricity used since the begining.\n",
      " 10%|████▍                                       | 1/10 [01:07<10:07, 67.52s/it]"
     ]
    },
    {
     "name": "stdout",
     "output_type": "stream",
     "text": [
      "Epoch 1: train loss is 9.710 | val loss is 7.346 | Accuracy is 49.80%\n",
      "\n",
      "Best validation loss: 7.346344893886929\n",
      "\n",
      "Saving best model for epoch: 1\n",
      "\n"
     ]
    },
    {
     "name": "stderr",
     "output_type": "stream",
     "text": [
      "[codecarbon INFO @ 23:11:49] Energy consumed for RAM : 0.000117 kWh. RAM Power : 5.645008563995361 W\n",
      "[codecarbon INFO @ 23:11:49] Energy consumed for all GPUs : 0.000202 kWh. All GPUs Power : 10.016 W\n",
      "[codecarbon INFO @ 23:11:49] Energy consumed for all CPUs : 0.000000 kWh. All CPUs Power : 0.0 W\n",
      "[codecarbon INFO @ 23:11:49] 0.000320 kWh of electricity used since the begining.\n",
      "[codecarbon INFO @ 23:12:04] Energy consumed for RAM : 0.000141 kWh. RAM Power : 5.645008563995361 W\n",
      "[codecarbon INFO @ 23:12:04] Energy consumed for all GPUs : 0.000243 kWh. All GPUs Power : 9.703 W\n",
      "[codecarbon INFO @ 23:12:04] Energy consumed for all CPUs : 0.000000 kWh. All CPUs Power : 0.0 W\n",
      "[codecarbon INFO @ 23:12:04] 0.000384 kWh of electricity used since the begining.\n",
      "[codecarbon INFO @ 23:12:19] Energy consumed for RAM : 0.000165 kWh. RAM Power : 5.645008563995361 W\n",
      "[codecarbon INFO @ 23:12:19] Energy consumed for all GPUs : 0.000283 kWh. All GPUs Power : 9.798 W\n",
      "[codecarbon INFO @ 23:12:19] Energy consumed for all CPUs : 0.000000 kWh. All CPUs Power : 0.0 W\n",
      "[codecarbon INFO @ 23:12:19] 0.000448 kWh of electricity used since the begining.\n",
      "[codecarbon INFO @ 23:12:34] Energy consumed for RAM : 0.000188 kWh. RAM Power : 5.645008563995361 W\n",
      "[codecarbon INFO @ 23:12:34] Energy consumed for all GPUs : 0.000324 kWh. All GPUs Power : 9.792 W\n",
      "[codecarbon INFO @ 23:12:34] Energy consumed for all CPUs : 0.000000 kWh. All CPUs Power : 0.0 W\n",
      "[codecarbon INFO @ 23:12:34] 0.000512 kWh of electricity used since the begining.\n",
      "[codecarbon INFO @ 23:12:49] Energy consumed for RAM : 0.000212 kWh. RAM Power : 5.645008563995361 W\n",
      "[codecarbon INFO @ 23:12:49] Energy consumed for all GPUs : 0.000365 kWh. All GPUs Power : 9.779 W\n",
      "[codecarbon INFO @ 23:12:49] Energy consumed for all CPUs : 0.000000 kWh. All CPUs Power : 0.0 W\n",
      "[codecarbon INFO @ 23:12:49] 0.000576 kWh of electricity used since the begining.\n",
      " 20%|████████▊                                   | 2/10 [02:15<09:00, 67.62s/it]"
     ]
    },
    {
     "name": "stdout",
     "output_type": "stream",
     "text": [
      "Epoch 2: train loss is 2.349 | val loss is 5.798 | Accuracy is 50.20%\n",
      "\n",
      "Best validation loss: 5.797859049505657\n",
      "\n",
      "Saving best model for epoch: 2\n",
      "\n"
     ]
    },
    {
     "name": "stderr",
     "output_type": "stream",
     "text": [
      "[codecarbon INFO @ 23:13:04] Energy consumed for RAM : 0.000235 kWh. RAM Power : 5.645008563995361 W\n",
      "[codecarbon INFO @ 23:13:04] Energy consumed for all GPUs : 0.000406 kWh. All GPUs Power : 9.985 W\n",
      "[codecarbon INFO @ 23:13:04] Energy consumed for all CPUs : 0.000000 kWh. All CPUs Power : 0.0 W\n",
      "[codecarbon INFO @ 23:13:04] 0.000641 kWh of electricity used since the begining.\n",
      "[codecarbon INFO @ 23:13:19] Energy consumed for RAM : 0.000259 kWh. RAM Power : 5.645008563995361 W\n",
      "[codecarbon INFO @ 23:13:19] Energy consumed for all GPUs : 0.000447 kWh. All GPUs Power : 9.769 W\n",
      "[codecarbon INFO @ 23:13:19] Energy consumed for all CPUs : 0.000000 kWh. All CPUs Power : 0.0 W\n",
      "[codecarbon INFO @ 23:13:19] 0.000706 kWh of electricity used since the begining.\n",
      "[codecarbon INFO @ 23:13:34] Energy consumed for RAM : 0.000282 kWh. RAM Power : 5.645008563995361 W\n",
      "[codecarbon INFO @ 23:13:34] Energy consumed for all GPUs : 0.000488 kWh. All GPUs Power : 9.819 W\n",
      "[codecarbon INFO @ 23:13:34] Energy consumed for all CPUs : 0.000000 kWh. All CPUs Power : 0.0 W\n",
      "[codecarbon INFO @ 23:13:34] 0.000770 kWh of electricity used since the begining.\n",
      "[codecarbon INFO @ 23:13:49] Energy consumed for RAM : 0.000306 kWh. RAM Power : 5.645008563995361 W\n",
      "[codecarbon INFO @ 23:13:49] Energy consumed for all GPUs : 0.000529 kWh. All GPUs Power : 9.772000000000002 W\n",
      "[codecarbon INFO @ 23:13:49] Energy consumed for all CPUs : 0.000000 kWh. All CPUs Power : 0.0 W\n",
      "[codecarbon INFO @ 23:13:49] 0.000834 kWh of electricity used since the begining.\n",
      " 30%|█████████████▏                              | 3/10 [03:22<07:51, 67.41s/it]"
     ]
    },
    {
     "name": "stdout",
     "output_type": "stream",
     "text": [
      "Epoch 3: train loss is 0.578 | val loss is 5.005 | Accuracy is 53.57%\n",
      "\n",
      "Best validation loss: 5.005349155338037\n",
      "\n",
      "Saving best model for epoch: 3\n",
      "\n"
     ]
    },
    {
     "name": "stderr",
     "output_type": "stream",
     "text": [
      "[codecarbon INFO @ 23:14:04] Energy consumed for RAM : 0.000329 kWh. RAM Power : 5.645008563995361 W\n",
      "[codecarbon INFO @ 23:14:05] Energy consumed for all GPUs : 0.000570 kWh. All GPUs Power : 9.786 W\n",
      "[codecarbon INFO @ 23:14:05] Energy consumed for all CPUs : 0.000000 kWh. All CPUs Power : 0.0 W\n",
      "[codecarbon INFO @ 23:14:05] 0.000899 kWh of electricity used since the begining.\n",
      "[codecarbon INFO @ 23:14:19] Energy consumed for RAM : 0.000353 kWh. RAM Power : 5.645008563995361 W\n",
      "[codecarbon INFO @ 23:14:20] Energy consumed for all GPUs : 0.000610 kWh. All GPUs Power : 9.825000000000003 W\n",
      "[codecarbon INFO @ 23:14:20] Energy consumed for all CPUs : 0.000000 kWh. All CPUs Power : 0.0 W\n",
      "[codecarbon INFO @ 23:14:20] 0.000963 kWh of electricity used since the begining.\n",
      "[codecarbon INFO @ 23:14:35] Energy consumed for RAM : 0.000376 kWh. RAM Power : 5.645008563995361 W\n",
      "[codecarbon INFO @ 23:14:35] Energy consumed for all GPUs : 0.000660 kWh. All GPUs Power : 11.979000000000001 W\n",
      "[codecarbon INFO @ 23:14:35] Energy consumed for all CPUs : 0.000000 kWh. All CPUs Power : 0.0 W\n",
      "[codecarbon INFO @ 23:14:35] 0.001036 kWh of electricity used since the begining.\n",
      "[codecarbon INFO @ 23:14:50] Energy consumed for RAM : 0.000401 kWh. RAM Power : 5.645008563995361 W\n",
      "[codecarbon INFO @ 23:14:50] Energy consumed for all GPUs : 0.000704 kWh. All GPUs Power : 9.869 W\n",
      "[codecarbon INFO @ 23:14:50] Energy consumed for all CPUs : 0.000000 kWh. All CPUs Power : 0.0 W\n",
      "[codecarbon INFO @ 23:14:50] 0.001104 kWh of electricity used since the begining.\n",
      " 40%|█████████████████▌                          | 4/10 [04:30<06:46, 67.83s/it][codecarbon INFO @ 23:15:05] Energy consumed for RAM : 0.000424 kWh. RAM Power : 5.645008563995361 W\n",
      "[codecarbon INFO @ 23:15:05] Energy consumed for all GPUs : 0.000745 kWh. All GPUs Power : 9.879000000000001 W\n",
      "[codecarbon INFO @ 23:15:05] Energy consumed for all CPUs : 0.000000 kWh. All CPUs Power : 0.0 W\n",
      "[codecarbon INFO @ 23:15:05] 0.001169 kWh of electricity used since the begining.\n"
     ]
    },
    {
     "name": "stdout",
     "output_type": "stream",
     "text": [
      "Epoch 4: train loss is 0.252 | val loss is 5.851 | Accuracy is 55.75%\n"
     ]
    },
    {
     "name": "stderr",
     "output_type": "stream",
     "text": [
      "[codecarbon INFO @ 23:15:20] Energy consumed for RAM : 0.000448 kWh. RAM Power : 5.645008563995361 W\n",
      "[codecarbon INFO @ 23:15:20] Energy consumed for all GPUs : 0.000786 kWh. All GPUs Power : 9.904 W\n",
      "[codecarbon INFO @ 23:15:20] Energy consumed for all CPUs : 0.000000 kWh. All CPUs Power : 0.0 W\n",
      "[codecarbon INFO @ 23:15:20] 0.001234 kWh of electricity used since the begining.\n",
      "[codecarbon INFO @ 23:15:35] Energy consumed for RAM : 0.000471 kWh. RAM Power : 5.645008563995361 W\n",
      "[codecarbon INFO @ 23:15:35] Energy consumed for all GPUs : 0.000827 kWh. All GPUs Power : 9.876 W\n",
      "[codecarbon INFO @ 23:15:35] Energy consumed for all CPUs : 0.000000 kWh. All CPUs Power : 0.0 W\n",
      "[codecarbon INFO @ 23:15:35] 0.001298 kWh of electricity used since the begining.\n",
      "[codecarbon INFO @ 23:15:50] Energy consumed for RAM : 0.000495 kWh. RAM Power : 5.645008563995361 W\n",
      "[codecarbon INFO @ 23:15:50] Energy consumed for all GPUs : 0.000868 kWh. All GPUs Power : 9.818 W\n",
      "[codecarbon INFO @ 23:15:50] Energy consumed for all CPUs : 0.000000 kWh. All CPUs Power : 0.0 W\n",
      "[codecarbon INFO @ 23:15:50] 0.001363 kWh of electricity used since the begining.\n",
      "[codecarbon INFO @ 23:16:05] Energy consumed for RAM : 0.000518 kWh. RAM Power : 5.645008563995361 W\n",
      "[codecarbon INFO @ 23:16:05] Energy consumed for all GPUs : 0.000911 kWh. All GPUs Power : 10.414 W\n",
      "[codecarbon INFO @ 23:16:05] Energy consumed for all CPUs : 0.000000 kWh. All CPUs Power : 0.0 W\n",
      "[codecarbon INFO @ 23:16:05] 0.001430 kWh of electricity used since the begining.\n",
      " 50%|██████████████████████                      | 5/10 [05:38<05:38, 67.77s/it]"
     ]
    },
    {
     "name": "stdout",
     "output_type": "stream",
     "text": [
      "Epoch 5: train loss is 0.096 | val loss is 5.142 | Accuracy is 57.14%\n"
     ]
    },
    {
     "name": "stderr",
     "output_type": "stream",
     "text": [
      "[codecarbon INFO @ 23:16:20] Energy consumed for RAM : 0.000542 kWh. RAM Power : 5.645008563995361 W\n",
      "[codecarbon INFO @ 23:16:20] Energy consumed for all GPUs : 0.000952 kWh. All GPUs Power : 9.815 W\n",
      "[codecarbon INFO @ 23:16:20] Energy consumed for all CPUs : 0.000000 kWh. All CPUs Power : 0.0 W\n",
      "[codecarbon INFO @ 23:16:20] 0.001494 kWh of electricity used since the begining.\n",
      "[codecarbon INFO @ 23:16:35] Energy consumed for RAM : 0.000565 kWh. RAM Power : 5.645008563995361 W\n",
      "[codecarbon INFO @ 23:16:35] Energy consumed for all GPUs : 0.000993 kWh. All GPUs Power : 9.804 W\n",
      "[codecarbon INFO @ 23:16:35] Energy consumed for all CPUs : 0.000000 kWh. All CPUs Power : 0.0 W\n",
      "[codecarbon INFO @ 23:16:35] 0.001558 kWh of electricity used since the begining.\n",
      "[codecarbon INFO @ 23:16:50] Energy consumed for RAM : 0.000589 kWh. RAM Power : 5.645008563995361 W\n",
      "[codecarbon INFO @ 23:16:50] Energy consumed for all GPUs : 0.001034 kWh. All GPUs Power : 9.808000000000002 W\n",
      "[codecarbon INFO @ 23:16:50] Energy consumed for all CPUs : 0.000000 kWh. All CPUs Power : 0.0 W\n",
      "[codecarbon INFO @ 23:16:50] 0.001623 kWh of electricity used since the begining.\n",
      "[codecarbon INFO @ 23:17:05] Energy consumed for RAM : 0.000612 kWh. RAM Power : 5.645008563995361 W\n",
      "[codecarbon INFO @ 23:17:05] Energy consumed for all GPUs : 0.001075 kWh. All GPUs Power : 9.803 W\n",
      "[codecarbon INFO @ 23:17:05] Energy consumed for all CPUs : 0.000000 kWh. All CPUs Power : 0.0 W\n",
      "[codecarbon INFO @ 23:17:05] 0.001687 kWh of electricity used since the begining.\n",
      "[codecarbon INFO @ 23:17:20] Energy consumed for RAM : 0.000636 kWh. RAM Power : 5.645008563995361 W\n",
      "[codecarbon INFO @ 23:17:20] Energy consumed for all GPUs : 0.001116 kWh. All GPUs Power : 9.791 W\n",
      "[codecarbon INFO @ 23:17:20] Energy consumed for all CPUs : 0.000000 kWh. All CPUs Power : 0.0 W\n",
      "[codecarbon INFO @ 23:17:20] 0.001751 kWh of electricity used since the begining.\n",
      " 60%|██████████████████████████▍                 | 6/10 [06:46<04:31, 67.76s/it]"
     ]
    },
    {
     "name": "stdout",
     "output_type": "stream",
     "text": [
      "Epoch 6: train loss is 0.097 | val loss is 5.505 | Accuracy is 54.76%\n"
     ]
    },
    {
     "name": "stderr",
     "output_type": "stream",
     "text": [
      "[codecarbon INFO @ 23:17:35] Energy consumed for RAM : 0.000659 kWh. RAM Power : 5.645008563995361 W\n",
      "[codecarbon INFO @ 23:17:35] Energy consumed for all GPUs : 0.001159 kWh. All GPUs Power : 10.53 W\n",
      "[codecarbon INFO @ 23:17:35] Energy consumed for all CPUs : 0.000000 kWh. All CPUs Power : 0.0 W\n",
      "[codecarbon INFO @ 23:17:35] 0.001819 kWh of electricity used since the begining.\n",
      "[codecarbon INFO @ 23:17:50] Energy consumed for RAM : 0.000683 kWh. RAM Power : 5.645008563995361 W\n",
      "[codecarbon INFO @ 23:17:50] Energy consumed for all GPUs : 0.001200 kWh. All GPUs Power : 9.799000000000001 W\n",
      "[codecarbon INFO @ 23:17:50] Energy consumed for all CPUs : 0.000000 kWh. All CPUs Power : 0.0 W\n",
      "[codecarbon INFO @ 23:17:50] 0.001883 kWh of electricity used since the begining.\n",
      "[codecarbon INFO @ 23:18:05] Energy consumed for RAM : 0.000706 kWh. RAM Power : 5.645008563995361 W\n",
      "[codecarbon INFO @ 23:18:05] Energy consumed for all GPUs : 0.001241 kWh. All GPUs Power : 9.774000000000001 W\n",
      "[codecarbon INFO @ 23:18:05] Energy consumed for all CPUs : 0.000000 kWh. All CPUs Power : 0.0 W\n",
      "[codecarbon INFO @ 23:18:05] 0.001947 kWh of electricity used since the begining.\n",
      "[codecarbon INFO @ 23:18:20] Energy consumed for RAM : 0.000730 kWh. RAM Power : 5.645008563995361 W\n",
      "[codecarbon INFO @ 23:18:20] Energy consumed for all GPUs : 0.001282 kWh. All GPUs Power : 9.819 W\n",
      "[codecarbon INFO @ 23:18:20] Energy consumed for all CPUs : 0.000000 kWh. All CPUs Power : 0.0 W\n",
      "[codecarbon INFO @ 23:18:20] 0.002012 kWh of electricity used since the begining.\n",
      " 70%|██████████████████████████████▊             | 7/10 [07:57<03:27, 69.06s/it]"
     ]
    },
    {
     "name": "stdout",
     "output_type": "stream",
     "text": [
      "Epoch 7: train loss is 0.178 | val loss is 7.984 | Accuracy is 54.56%\n"
     ]
    },
    {
     "name": "stderr",
     "output_type": "stream",
     "text": [
      "[codecarbon INFO @ 23:18:35] Energy consumed for RAM : 0.000753 kWh. RAM Power : 5.645008563995361 W\n",
      "[codecarbon INFO @ 23:18:35] Energy consumed for all GPUs : 0.001323 kWh. All GPUs Power : 9.839 W\n",
      "[codecarbon INFO @ 23:18:35] Energy consumed for all CPUs : 0.000000 kWh. All CPUs Power : 0.0 W\n",
      "[codecarbon INFO @ 23:18:35] 0.002076 kWh of electricity used since the begining.\n",
      "[codecarbon INFO @ 23:18:50] Energy consumed for RAM : 0.000777 kWh. RAM Power : 5.645008563995361 W\n",
      "[codecarbon INFO @ 23:18:50] Energy consumed for all GPUs : 0.001364 kWh. All GPUs Power : 9.803 W\n",
      "[codecarbon INFO @ 23:18:50] Energy consumed for all CPUs : 0.000000 kWh. All CPUs Power : 0.0 W\n",
      "[codecarbon INFO @ 23:18:50] 0.002140 kWh of electricity used since the begining.\n",
      "[codecarbon INFO @ 23:19:05] Energy consumed for RAM : 0.000800 kWh. RAM Power : 5.645008563995361 W\n",
      "[codecarbon INFO @ 23:19:05] Energy consumed for all GPUs : 0.001406 kWh. All GPUs Power : 10.23 W\n",
      "[codecarbon INFO @ 23:19:05] Energy consumed for all CPUs : 0.000000 kWh. All CPUs Power : 0.0 W\n",
      "[codecarbon INFO @ 23:19:05] 0.002207 kWh of electricity used since the begining.\n",
      "[codecarbon INFO @ 23:19:20] Energy consumed for RAM : 0.000824 kWh. RAM Power : 5.645008563995361 W\n",
      "[codecarbon INFO @ 23:19:20] Energy consumed for all GPUs : 0.001447 kWh. All GPUs Power : 9.868 W\n",
      "[codecarbon INFO @ 23:19:20] Energy consumed for all CPUs : 0.000000 kWh. All CPUs Power : 0.0 W\n",
      "[codecarbon INFO @ 23:19:20] 0.002271 kWh of electricity used since the begining.\n",
      "[codecarbon INFO @ 23:19:35] Energy consumed for RAM : 0.000847 kWh. RAM Power : 5.645008563995361 W\n",
      "[codecarbon INFO @ 23:19:35] Energy consumed for all GPUs : 0.001488 kWh. All GPUs Power : 9.83 W\n",
      "[codecarbon INFO @ 23:19:35] Energy consumed for all CPUs : 0.000000 kWh. All CPUs Power : 0.0 W\n",
      "[codecarbon INFO @ 23:19:35] 0.002336 kWh of electricity used since the begining.\n",
      " 80%|███████████████████████████████████▏        | 8/10 [09:06<02:17, 68.74s/it]"
     ]
    },
    {
     "name": "stdout",
     "output_type": "stream",
     "text": [
      "Epoch 8: train loss is 0.210 | val loss is 6.944 | Accuracy is 55.56%\n"
     ]
    },
    {
     "name": "stderr",
     "output_type": "stream",
     "text": [
      "[codecarbon INFO @ 23:19:50] Energy consumed for RAM : 0.000871 kWh. RAM Power : 5.645008563995361 W\n",
      "[codecarbon INFO @ 23:19:50] Energy consumed for all GPUs : 0.001529 kWh. All GPUs Power : 9.789 W\n",
      "[codecarbon INFO @ 23:19:50] Energy consumed for all CPUs : 0.000000 kWh. All CPUs Power : 0.0 W\n",
      "[codecarbon INFO @ 23:19:50] 0.002400 kWh of electricity used since the begining.\n",
      "[codecarbon INFO @ 23:20:05] Energy consumed for RAM : 0.000894 kWh. RAM Power : 5.645008563995361 W\n",
      "[codecarbon INFO @ 23:20:05] Energy consumed for all GPUs : 0.001570 kWh. All GPUs Power : 9.793000000000001 W\n",
      "[codecarbon INFO @ 23:20:05] Energy consumed for all CPUs : 0.000000 kWh. All CPUs Power : 0.0 W\n",
      "[codecarbon INFO @ 23:20:05] 0.002464 kWh of electricity used since the begining.\n",
      "[codecarbon INFO @ 23:20:20] Energy consumed for RAM : 0.000918 kWh. RAM Power : 5.645008563995361 W\n",
      "[codecarbon INFO @ 23:20:20] Energy consumed for all GPUs : 0.001611 kWh. All GPUs Power : 9.83 W\n",
      "[codecarbon INFO @ 23:20:20] Energy consumed for all CPUs : 0.000000 kWh. All CPUs Power : 0.0 W\n",
      "[codecarbon INFO @ 23:20:20] 0.002529 kWh of electricity used since the begining.\n",
      "[codecarbon INFO @ 23:20:35] Energy consumed for RAM : 0.000941 kWh. RAM Power : 5.645008563995361 W\n",
      "[codecarbon INFO @ 23:20:35] Energy consumed for all GPUs : 0.001653 kWh. All GPUs Power : 10.056000000000001 W\n",
      "[codecarbon INFO @ 23:20:35] Energy consumed for all CPUs : 0.000000 kWh. All CPUs Power : 0.0 W\n",
      "[codecarbon INFO @ 23:20:35] 0.002594 kWh of electricity used since the begining.\n",
      "[codecarbon INFO @ 23:20:50] Energy consumed for RAM : 0.000965 kWh. RAM Power : 5.645008563995361 W\n",
      "[codecarbon INFO @ 23:20:50] Energy consumed for all GPUs : 0.001694 kWh. All GPUs Power : 9.897000000000002 W\n",
      "[codecarbon INFO @ 23:20:50] Energy consumed for all CPUs : 0.000000 kWh. All CPUs Power : 0.0 W\n",
      "[codecarbon INFO @ 23:20:50] 0.002659 kWh of electricity used since the begining.\n",
      " 90%|███████████████████████████████████████▌    | 9/10 [10:16<01:09, 69.34s/it]"
     ]
    },
    {
     "name": "stdout",
     "output_type": "stream",
     "text": [
      "Epoch 9: train loss is 0.519 | val loss is 7.283 | Accuracy is 56.15%\n"
     ]
    },
    {
     "name": "stderr",
     "output_type": "stream",
     "text": [
      "[codecarbon INFO @ 23:21:05] Energy consumed for RAM : 0.000988 kWh. RAM Power : 5.645008563995361 W\n",
      "[codecarbon INFO @ 23:21:05] Energy consumed for all GPUs : 0.001735 kWh. All GPUs Power : 9.847 W\n",
      "[codecarbon INFO @ 23:21:05] Energy consumed for all CPUs : 0.000000 kWh. All CPUs Power : 0.0 W\n",
      "[codecarbon INFO @ 23:21:05] 0.002723 kWh of electricity used since the begining.\n",
      "[codecarbon INFO @ 23:21:20] Energy consumed for RAM : 0.001012 kWh. RAM Power : 5.645008563995361 W\n",
      "[codecarbon INFO @ 23:21:20] Energy consumed for all GPUs : 0.001776 kWh. All GPUs Power : 9.807 W\n",
      "[codecarbon INFO @ 23:21:20] Energy consumed for all CPUs : 0.000000 kWh. All CPUs Power : 0.0 W\n",
      "[codecarbon INFO @ 23:21:20] 0.002788 kWh of electricity used since the begining.\n",
      "[codecarbon INFO @ 23:21:35] Energy consumed for RAM : 0.001035 kWh. RAM Power : 5.645008563995361 W\n",
      "[codecarbon INFO @ 23:21:35] Energy consumed for all GPUs : 0.001816 kWh. All GPUs Power : 9.762 W\n",
      "[codecarbon INFO @ 23:21:35] Energy consumed for all CPUs : 0.000000 kWh. All CPUs Power : 0.0 W\n",
      "[codecarbon INFO @ 23:21:35] 0.002852 kWh of electricity used since the begining.\n",
      "[codecarbon INFO @ 23:21:50] Energy consumed for RAM : 0.001059 kWh. RAM Power : 5.645008563995361 W\n",
      "[codecarbon INFO @ 23:21:50] Energy consumed for all GPUs : 0.001857 kWh. All GPUs Power : 9.738 W\n",
      "[codecarbon INFO @ 23:21:50] Energy consumed for all CPUs : 0.000000 kWh. All CPUs Power : 0.0 W\n",
      "[codecarbon INFO @ 23:21:50] 0.002916 kWh of electricity used since the begining.\n",
      "100%|███████████████████████████████████████████| 10/10 [11:25<00:00, 68.55s/it]"
     ]
    },
    {
     "name": "stdout",
     "output_type": "stream",
     "text": [
      "Epoch 10: train loss is 0.343 | val loss is 8.777 | Accuracy is 54.76%\n"
     ]
    },
    {
     "name": "stderr",
     "output_type": "stream",
     "text": [
      "\n"
     ]
    },
    {
     "data": {
      "image/png": "[encoded data removed]",
      "text/plain": [
       "<Figure size 640x480 with 1 Axes>"
      ]
     },
     "metadata": {},
     "output_type": "display_data"
    },
    {
     "name": "stderr",
     "output_type": "stream",
     "text": [
      "[codecarbon INFO @ 23:22:00] \n",
      "Graceful stopping: collecting and writing information.\n",
      "Please Allow for a few seconds...\n",
      "[codecarbon INFO @ 23:22:00] Energy consumed for RAM : 0.001074 kWh. RAM Power : 5.645008563995361 W\n",
      "[codecarbon INFO @ 23:22:00] Energy consumed for all GPUs : 0.001883 kWh. All GPUs Power : 9.749 W\n",
      "[codecarbon INFO @ 23:22:00] Energy consumed for all CPUs : 0.000000 kWh. All CPUs Power : 0.0 W\n",
      "[codecarbon INFO @ 23:22:00] 0.002957 kWh of electricity used since the begining.\n",
      "[codecarbon INFO @ 23:22:00] Done!\n",
      "\n"
     ]
    },
    {
     "name": "stdout",
     "output_type": "stream",
     "text": [
      "Saving final model...\n"
     ]
    }
   ],
   "source": [
    "CNN_model = CNNSpeechClassifier(channel_inputs=1, num_channels1=16,\n",
    "                                num_channels2=32, kernel_size=2,\n",
    "                                kernel_pool=2, padding=0, num_classes=3)\n",
    "\n",
    "\n",
    "trainer = MyTrainer(CNN_model)\n",
    "trainer.train_loop(train_dataloader, val_dataloader, visual=True, epochs=5)"
   ]
  },
  {
   "cell_type": "markdown",
   "id": "1b6978d2-b122-4555-8756-48e49cd1b9bf",
   "metadata": {},
   "source": [
    "# Test"
   ]
  },
  {
   "cell_type": "code",
   "execution_count": 17,
   "id": "8fed5c38",
   "metadata": {},
   "outputs": [],
   "source": [
    "def load_components(checkpoint):\n",
    "\n",
    "\n",
    "    epoch = checkpoint[\"epoch\"]\n",
    "    loss_fn = checkpoint[\"loss\"]\n",
    "    #loss_fn = nn.CrossEntropyLoss()\n",
    "\n",
    "    model = CNNSpeechClassifier(channel_inputs=1, num_channels1=16,\n",
    "                                num_channels2=32, kernel_size=2,\n",
    "                                kernel_pool=2, padding=0, num_classes=3)\n",
    "\n",
    "\n",
    "    model.load_state_dict(checkpoint[\"model_state_dict\"])\n",
    "\n",
    "    optimizer = AdamW(model.parameters())\n",
    "    optimizer.load_state_dict(checkpoint[\"optimizer_state_dict\"])\n",
    "    \n",
    "    model.to(device)\n",
    "\n",
    "    return model, optimizer, epoch, loss_fn\n"
   ]
  },
  {
   "cell_type": "markdown",
   "id": "27b3f86e",
   "metadata": {},
   "source": [
    "Main"
   ]
  },
  {
   "cell_type": "code",
   "execution_count": 18,
   "id": "3a43bfb8",
   "metadata": {},
   "outputs": [
    {
     "name": "stdout",
     "output_type": "stream",
     "text": [
      "Best epoch 3: test loss is 5.884 | Accuracy is 46.67%\n"
     ]
    }
   ],
   "source": [
    "test_dir = \"./Dataset/test/test\"\n",
    "\n",
    "test_data = SpeechDataset(test_dir, \"librosa\")\n",
    "test_dataloader = DataLoader(test_data, batch_size=8, shuffle=True)  # one is 4, 64, 862 - 4 despite batch size\n",
    "\n",
    "best_checkpoint = torch.load(\"model_output/best_speech_cnn.pth\", map_location=device)  # weird form of early stopping. Should add patience\n",
    "final_checkpoint = torch.load(\"model_output/final_speech_cnn.pth\", map_location=device)\n",
    "model, optimizer, epoch, loss_fn = load_components(best_checkpoint)\n",
    "\n",
    "acc, test_loss = evaluation(model, test_dataloader, loss_fn)\n",
    "\n",
    "print(f\"Best epoch {epoch}: test loss is {test_loss:.3f} | Accuracy is {acc:.2f}%\")"
   ]
  },
  {
   "cell_type": "code",
   "execution_count": null,
   "id": "7fd76e67",
   "metadata": {},
   "outputs": [],
   "source": []
  },
  {
   "cell_type": "code",
   "execution_count": null,
   "id": "d429f1dd",
   "metadata": {},
   "outputs": [],
   "source": []
  },
  {
   "cell_type": "code",
   "execution_count": null,
   "id": "c232eaf2",
   "metadata": {},
   "outputs": [],
   "source": []
  }
 ],
 "metadata": {
  "kernelspec": {
   "display_name": "Python 3 (ipykernel)",
   "language": "python",
   "name": "python3"
  },
  "language_info": {
   "codemirror_mode": {
    "name": "ipython",
    "version": 3
   },
   "file_extension": ".py",
   "mimetype": "text/x-python",
   "name": "python",
   "nbconvert_exporter": "python",
   "pygments_lexer": "ipython3",
   "version": "3.10.6"
  }
 },
 "nbformat": 4,
 "nbformat_minor": 5
}
